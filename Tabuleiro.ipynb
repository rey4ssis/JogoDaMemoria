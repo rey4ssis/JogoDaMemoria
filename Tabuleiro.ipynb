{
  "nbformat": 4,
  "nbformat_minor": 0,
  "metadata": {
    "colab": {
      "name": "Tabuleiro.ipynb",
      "provenance": []
    },
    "kernelspec": {
      "name": "python3",
      "display_name": "Python 3"
    },
    "language_info": {
      "name": "python"
    }
  },
  "cells": [
    {
      "cell_type": "code",
      "execution_count": null,
      "metadata": {
        "id": "cMFxLoQObEzP"
      },
      "outputs": [],
      "source": [
        "from IPython.display import clear_output\n",
        "\n",
        "import random\n",
        "\n",
        "tabuleiroPrincipal=[[],[],[],[]]\n",
        "\n",
        "mylist = ['!','@','#','$','%','*','~','?','!','@','#','$','%','*','~','?']\n",
        "listVisual=[['@', '*', '?', '#'], ['~', '$', '$', '~'], ['%', '@', '?', '%'], ['!', '#', '*', '!']]\n",
        "random.shuffle(mylist)\n",
        "\n",
        "for i in mylist:\n",
        "  for listAp in tabuleiroPrincipal:\n",
        "    if len(listAp)<=3:\n",
        "      listAp.append(i)\n",
        "      break\n",
        "\n",
        "def Visualizar():\n",
        "  \n",
        "  print(\"---------TABULEIRO EXEMBPLO--------------\")\n",
        "  \n",
        "  print(\"-----------------------------------------\")\n",
        "  for i in listVisual:\n",
        "    \n",
        "    print(i)\n",
        "  print(\"-----------------------------------------\")\n",
        "def tentativa(list):\n",
        "  print('|---------------------------------------|')\n",
        "\n",
        "  print('-----------Tabuleiro Real!---------------')\n",
        "  \n",
        "  for j in tabuleiroPrincipal:\n",
        "    print(j)\n",
        "\n",
        "\n",
        "  op1=input(\"Digite a opção 1:\")\n",
        "  p2=input(\"Digite a opção 2:\")\n",
        "  clear_output()\n",
        "  tentativa(list)\n",
        "Visualizar()\n",
        "tentativa(tabuleiroPrincipal)\n"
      ]
    }
  ]
}